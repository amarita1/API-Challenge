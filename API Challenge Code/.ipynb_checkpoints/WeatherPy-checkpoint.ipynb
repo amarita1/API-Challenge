{
 "cells": [
  {
   "cell_type": "markdown",
   "metadata": {},
   "source": [
    "# WeatherPy\n",
    "----\n",
    "\n",
    "### Analysis\n",
    "* As expected, the weather becomes significantly warmer as one approaches the equator (0 Deg. Latitude). More interestingly, however, is the fact that the southern hemisphere tends to be warmer this time of year than the northern hemisphere. This may be due to the tilt of the earth.\n",
    "* There is no strong relationship between latitude and cloudiness. However, it is interesting to see that a strong band of cities sits at 0, 80, and 100% cloudiness.\n",
    "* There is no strong relationship between latitude and wind speed. However, in northern hemispheres there is a flurry of cities with over 20 mph of wind.\n",
    "\n",
    "---\n",
    "\n",
    "#### Note\n",
    "* Instructions have been included for each segment. You do not have to follow them exactly, but they are included to help you think through the steps."
   ]
  },
  {
   "cell_type": "code",
   "execution_count": 1,
   "metadata": {},
   "outputs": [
    {
     "name": "stdout",
     "output_type": "stream",
     "text": [
      "Collecting citipy\n",
      "  Downloading citipy-0.0.5.tar.gz (557 kB)\n",
      "\u001b[K     |████████████████████████████████| 557 kB 2.0 MB/s eta 0:00:01\n",
      "\u001b[?25hCollecting kdtree>=0.12\n",
      "  Downloading kdtree-0.16-py2.py3-none-any.whl (7.7 kB)\n",
      "Building wheels for collected packages: citipy\n",
      "  Building wheel for citipy (setup.py) ... \u001b[?25ldone\n",
      "\u001b[?25h  Created wheel for citipy: filename=citipy-0.0.5-py3-none-any.whl size=559701 sha256=00ef3bf5ba21ead0bb7c1ee7cc055ab20ba51024c4072e9e5a0f9b18d4043270\n",
      "  Stored in directory: /Users/amaris/Library/Caches/pip/wheels/6d/df/5e/ad8eb9cc5ee7f4ba76865167c09f9a7edff405c669111d8353\n",
      "Successfully built citipy\n",
      "Installing collected packages: kdtree, citipy\n",
      "Successfully installed citipy-0.0.5 kdtree-0.16\n"
     ]
    }
   ],
   "source": [
    "! pip install citipy"
   ]
  },
  {
   "cell_type": "code",
   "execution_count": 6,
   "metadata": {
    "scrolled": true
   },
   "outputs": [
    {
     "ename": "ModuleNotFoundError",
     "evalue": "No module named 'api_key'",
     "output_type": "error",
     "traceback": [
      "\u001b[0;31m---------------------------------------------------------------------------\u001b[0m",
      "\u001b[0;31mModuleNotFoundError\u001b[0m                       Traceback (most recent call last)",
      "\u001b[0;32m<ipython-input-6-b0db789c412e>\u001b[0m in \u001b[0;36m<module>\u001b[0;34m\u001b[0m\n\u001b[1;32m      9\u001b[0m \u001b[0;34m\u001b[0m\u001b[0m\n\u001b[1;32m     10\u001b[0m \u001b[0;31m# Import API key\u001b[0m\u001b[0;34m\u001b[0m\u001b[0;34m\u001b[0m\u001b[0;34m\u001b[0m\u001b[0m\n\u001b[0;32m---> 11\u001b[0;31m \u001b[0;32mfrom\u001b[0m \u001b[0mapi_key\u001b[0m \u001b[0;32mimport\u001b[0m \u001b[0mapi_key\u001b[0m\u001b[0;34m\u001b[0m\u001b[0;34m\u001b[0m\u001b[0m\n\u001b[0m\u001b[1;32m     12\u001b[0m \u001b[0;34m\u001b[0m\u001b[0m\n\u001b[1;32m     13\u001b[0m \u001b[0;31m# Incorporated citipy to determine city based on latitude and longitude\u001b[0m\u001b[0;34m\u001b[0m\u001b[0;34m\u001b[0m\u001b[0;34m\u001b[0m\u001b[0m\n",
      "\u001b[0;31mModuleNotFoundError\u001b[0m: No module named 'api_key'"
     ]
    }
   ],
   "source": [
    "# Dependencies and Setup\n",
    "import matplotlib.pyplot as plt\n",
    "from scipy.stats import linregress\n",
    "import pandas as pd\n",
    "from pprint import pprint\n",
    "import numpy as np\n",
    "import requests\n",
    "import time\n",
    "\n",
    "# Import API key\n",
    "from api_key import api_key\n",
    "\n",
    "# Incorporated citipy to determine city based on latitude and longitude\n",
    "from citipy import citipy\n",
    "\n",
    "# Output File (CSV)\n",
    "output_data_file = \"output_data/cities.csv\"\n",
    "\n",
    "# Range of latitudes and longitudes\n",
    "lat_range = (-90, 90)\n",
    "lng_range = (-180, 180)\n",
    "\n",
    "#Build query URL\n",
    "temp_units = \"imperial\"\n",
    "base_url = f\"http://api.openweathermap.org/data/2.5/weather?&appid={api_key}&units={temp_units}q=\"\n"
   ]
  },
  {
   "cell_type": "markdown",
   "metadata": {},
   "source": [
    "## Generate Cities List"
   ]
  },
  {
   "cell_type": "code",
   "execution_count": null,
   "metadata": {},
   "outputs": [],
   "source": [
    "# List for holding lat_lngs and cities\n",
    "lat_lngs = []\n",
    "cities = []\n",
    "\n",
    "# Create a set of random lat and lng combinations\n",
    "lats = np.random.uniform(low=-90.000, high=90.000, size=1500)\n",
    "lngs = np.random.uniform(low=-180.000, high=180.000, size=1500)\n",
    "lat_lngs = zip(lats, lngs)\n",
    "\n",
    "# Identify nearest city for each lat, lng combination\n",
    "for lat_lng in lat_lngs:\n",
    "    city = citipy.nearest_city(lat_lng[0], lat_lng[1]).city_name\n",
    "    \n",
    "    # If the city is unique, then add it to a our cities list\n",
    "    if city not in cities:\n",
    "        cities.append(city)\n",
    "\n",
    "# Print the city count to confirm sufficient count\n",
    "print(len(cities))"
   ]
  },
  {
   "cell_type": "markdown",
   "metadata": {},
   "source": [
    "### Perform API Calls\n",
    "* Perform a weather check on each city using a series of successive API calls.\n",
    "* Include a print log of each city as it'sbeing processed (with the city number and city name).\n"
   ]
  },
  {
   "cell_type": "code",
   "execution_count": null,
   "metadata": {},
   "outputs": [],
   "source": [
    "\n",
    "#Create empty lists to form scatter plot dataframe\n",
    "\n",
    "city_name = []\n",
    "max_temperature = []\n",
    "humidity = []\n",
    "cloudiness = []\n",
    "windspeed = []\n",
    "latitude = []\n",
    "longitude = []\n",
    "country = []\n",
    "date = []\n",
    "\n",
    "counter = 1 \n",
    "set_one = 1\n",
    "\n",
    "print(f'Beginning Data Retrieval')\n",
    "print(f'----------------------------------')\n",
    "\n",
    "#Create loop through full cities list to get weather info\n",
    "\n",
    "for city in world_cities: \n",
    "    city_weather_url = base_url + city\n",
    "    response = requests.get(city_weather_url).json()\n",
    "    \n",
    "    try:\n",
    "        \n",
    "        date.append(response['dt'])\n",
    "        country.append(response['sys']['country'])\n",
    "        city_name.append(response['name'])\n",
    "        longitude.append(response['coord']['lon'])\n",
    "        latitude.append(response['coord']['lat'])\n",
    "        max_temperature.append(response['main']['temp_max'])\n",
    "        humidity.append(response['main']['humidity'])\n",
    "        cloudiness.append(response['clouds']['all'])\n",
    "        windspeed.append(response['wind']['speed'])\n",
    "         \n",
    "    if record > 49:\n",
    "            record = 1\n",
    "            set_number += 1\n",
    "            city_name.append(city)\n",
    "        else:\n",
    "            record += 1\n",
    "            city_name.append(city)\n",
    "    except:\n",
    "        # Append null values\n",
    "        print(f\"City not found.  Skipping..\")\n",
    "        pass\n",
    "print(\"-----------------------------\")\n",
    "print(\"Data Retrieval Complete\") \n",
    "print(\"-----------------------------\")\n",
    "                                \n",
    "                                        \n",
    "                                        "
   ]
  },
  {
   "cell_type": "markdown",
   "metadata": {},
   "source": [
    "### Convert Raw Data to DataFrame\n",
    "* Export the city data into a .csv.\n",
    "* Display the DataFrame"
   ]
  },
  {
   "cell_type": "code",
   "execution_count": null,
   "metadata": {},
   "outputs": [],
   "source": [
    "#Create Weather Dataframe\n",
    "\n",
    "cityweather_df = pd.DataFrame({\n",
    "    'City': city_name,\n",
    "    'Cloudiness': cloudiness,\n",
    "    'Country': country,\n",
    "    'Date': date,\n",
    "    'Temperature': max_temperature,\n",
    "    'Humidity': humidity, \n",
    "    'Latitude': latitude,\n",
    "    'Longitude': longitude,\n",
    "    'Windspeed': windspeed\n",
    "})\n",
    "\n",
    "cityweather_df.head()"
   ]
  },
  {
   "cell_type": "code",
   "execution_count": null,
   "metadata": {},
   "outputs": [],
   "source": [
    "cityweather_df.count()"
   ]
  },
  {
   "cell_type": "code",
   "execution_count": null,
   "metadata": {},
   "outputs": [],
   "source": [
    "#Output data to CSV\n",
    "cityweather_df.to_csv('weather_data.csv')"
   ]
  },
  {
   "cell_type": "markdown",
   "metadata": {},
   "source": [
    "### Plotting the Data\n",
    "* Use proper labeling of the plots using plot titles (including date of analysis) and axes labels.\n",
    "* Save the plotted figures as .pngs."
   ]
  },
  {
   "cell_type": "markdown",
   "metadata": {},
   "source": [
    "#### Latitude vs. Temperature Plot"
   ]
  },
  {
   "cell_type": "code",
   "execution_count": null,
   "metadata": {},
   "outputs": [],
   "source": [
    "plt.scatter(city_df[\"Latitude\"],city_df[\"Temperature\"],edgecolors=\"black\",facecolors=\"blue\")\n",
    "plt.title(\"Latitude vs. Temperature\")\n",
    "plt.xlabel(\"Latitude\")\n",
    "plt.ylabel(\"Max Temperature (F)\")\n",
    "\n",
    "plt.savefig(\"Lat vs Temp Plot.png\")\n",
    "plt.show()"
   ]
  },
  {
   "cell_type": "markdown",
   "metadata": {},
   "source": [
    "#### Latitude vs. Humidity Plot"
   ]
  },
  {
   "cell_type": "code",
   "execution_count": null,
   "metadata": {},
   "outputs": [],
   "source": [
    "plt.scatter(city_df[\"Latitude\"],city_df[\"Humidity\"],edgecolors=\"black\",facecolors=\"magenta\")\n",
    "plt.title(\"Latitude vs. Humidity\")\n",
    "plt.xlabel(\"Humidity\")\n",
    "plt.ylabel(\"Max Temperature (F)\")\n",
    "\n",
    "plt.savefig(\"Lat vs Humid Plot.png\")\n",
    "plt.show()"
   ]
  },
  {
   "cell_type": "markdown",
   "metadata": {},
   "source": [
    "#### Latitude vs. Cloudiness Plot"
   ]
  },
  {
   "cell_type": "code",
   "execution_count": null,
   "metadata": {},
   "outputs": [],
   "source": [
    "plt.scatter(city_df[\"Latitude\"],city_df[\"Cloudiness\"],edgecolors=\"black\",facecolors=\"green\")\n",
    "plt.title(\"Latitude vs. Cloudiness\")\n",
    "plt.xlabel(\"Latitude\")\n",
    "plt.ylabel(\"Cloudiness (%)\")\n",
    "\n",
    "plt.savefig(\"Lat vs Cloudiness Plot.png\")\n",
    "plt.show()"
   ]
  },
  {
   "cell_type": "markdown",
   "metadata": {},
   "source": [
    "#### Latitude vs. Wind Speed Plot"
   ]
  },
  {
   "cell_type": "code",
   "execution_count": null,
   "metadata": {},
   "outputs": [],
   "source": [
    "plt.scatter(city_df[\"Latitude\"],city_df[\"Windspeed\"],edgecolors=\"black\",facecolors=\"cyan\")\n",
    "plt.title(\"Latitude vs. Windspeed)\n",
    "plt.xlabel(\"Latitude\")\n",
    "plt.ylabel(\"Windspeed (mph)\")\n",
    "\n",
    "plt.savefig(\"Lat vs Temp Plot.png\")\n",
    "plt.show()"
   ]
  },
  {
   "cell_type": "code",
   "execution_count": null,
   "metadata": {},
   "outputs": [],
   "source": [
    "#Create Northern and Southern Hemisphere Dataframes\n",
    "northern_hem = weather_data[(weather_data[\"Latitude\"] >= 0)]\n",
    "southern_hem = weather_data[(weather_data[\"Latitude\"] < 0)]\n",
    "\n",
    "northern_hem.head()"
   ]
  },
  {
   "cell_type": "code",
   "execution_count": null,
   "metadata": {},
   "outputs": [],
   "source": [
    "#Linear Regression for Lat vs Temp - Northern Hemisphere\n",
    "\n",
    "(slope, intercept, rvalue, pvalue, stderr) = linregress(northern_hem['Latitude'], northern_hem['Temperature']\n",
    "x = northern_hem('Latitude')\n",
    "regress_values = x * slope + intercept\n",
    "\n",
    "#Plot Linear Regression\n",
    "plt.scatter(northern_hem.Latitude, northern_hem.Temperature, s=12)\n",
    "plt.plot(x, regress_values, linewidth = 1, color=\"red\")\n",
    "plt.title('Northern Hemisphere: Latitude vs Maximum Temperature')\n",
    "plt.xlabel('Latitude')\n",
    "plt.ylabel('Max. Temperature (F)') \n",
    "                                                        \n",
    "plt.savefig(Northern Hemisphere Lat vs Temp.png)                                                     \n",
    "                                                        \n",
    "plt.show()                                    \n",
    "\n"
   ]
  },
  {
   "cell_type": "code",
   "execution_count": null,
   "metadata": {},
   "outputs": [],
   "source": [
    "#Linear Regression for Lat vs Temp - Southern Hemisphere\n",
    "\n",
    "(slope, intercept, rvalue, pvalue, stderr) = linregress(southern_hem['Latitude'], southern_hem['Temperature']\n",
    "x = southern_hem('Latitude')\n",
    "regress_values = x * slope + intercept\n",
    "\n",
    "#Plot Linear Regression\n",
    "plt.scatter(southern_hem.Latitude, southern_hem.Temperature, s=12)\n",
    "plt.plot(x, regress_values, linewidth = 1, color=\"red\")\n",
    "plt.title('Southern Hemisphere: Latitude vs Maximum Temperature')\n",
    "plt.xlabel('Latitude')\n",
    "plt.ylabel('Max. Temperature (F)') \n",
    "                                                        \n",
    "plt.savefig(Southern Hemisphere Lat vs Temp.png)                                                     \n",
    "                                                        \n",
    "plt.show()        "
   ]
  },
  {
   "cell_type": "code",
   "execution_count": null,
   "metadata": {},
   "outputs": [],
   "source": [
    "#Linear Regression for Lat vs Humidity - Northern Hemisphere\n",
    "\n",
    "(slope, intercept, rvalue, pvalue, stderr) = linregress(northern_hem['Latitude'], northern_hem['Humidity']\n",
    "x = northern_hem('Latitude')\n",
    "regress_values = x * slope + intercept\n",
    "\n",
    "#Plot Linear Regression\n",
    "plt.scatter(northern_hem.Latitude, northern_hem.Humidity, s=12)\n",
    "plt.plot(x, regress_values, linewidth = 1, color=\"red\")\n",
    "plt.title('Northern Hemisphere: Latitude vs Humidity')\n",
    "plt.xlabel('Latitude')\n",
    "plt.ylabel('Humidity') \n",
    "                                                        \n",
    "plt.savefig(Northern Hemisphere Lat vs Humidity.png)                                                     \n",
    "                                                        \n",
    "plt.show() "
   ]
  },
  {
   "cell_type": "code",
   "execution_count": null,
   "metadata": {},
   "outputs": [],
   "source": [
    "#Linear Regression for Lat vs Humidity - Southern Hemisphere\n",
    "(slope, intercept, rvalue, pvalue, stderr) = linregress(southern_hem['Latitude'], southern_hem['Humidity']\n",
    "x = southern_hem('Latitude')\n",
    "regress_values = x * slope + intercept\n",
    "\n",
    "#Plot Linear Regression\n",
    "plt.scatter(southern_hem.Latitude, southern_hem.Humidity, s=12)\n",
    "plt.plot(x, regress_values, linewidth = 1, color=\"red\")\n",
    "plt.title('Southern Hemisphere: Latitude vs Humidity')\n",
    "plt.xlabel('Latitude')\n",
    "plt.ylabel('Humidity') \n",
    "                                                        \n",
    "plt.savefig(Southern Hemisphere Lat vs Humidity.png)                                                     \n",
    "                                                        \n",
    "plt.show() "
   ]
  },
  {
   "cell_type": "code",
   "execution_count": null,
   "metadata": {},
   "outputs": [],
   "source": [
    "#Linear Regression for Lat vs Cloudiness - Northern Hemisphere\n",
    "\n",
    "(slope, intercept, rvalue, pvalue, stderr) = linregress(northern_hem['Latitude'], northern_hem['Cloudiness'])\n",
    "x = northern_hem['Latitude']\n",
    "regress_values = x * slope + intercept\n",
    "\n",
    "#Plot Linear Regression\n",
    "plt.scatter(northern_hem.Latitude, northern_hem.Cloudiness, s=12)\n",
    "plt.plot(x, regress_values, linewidth = 1, color=\"red\")\n",
    "plt.title('Northern Hemisphere: Latitude vs Cloudiness')\n",
    "plt.xlabel('Latitude')\n",
    "plt.ylabel('Cloudiness') \n",
    "                                                        \n",
    "plt.savefig(Northern Hemisphere Lat vs Cloudiness.png)                                                     \n",
    "                                                        \n",
    "plt.show()"
   ]
  },
  {
   "cell_type": "code",
   "execution_count": null,
   "metadata": {},
   "outputs": [],
   "source": [
    "#Linear Regression for Lat vs Cloudiness - Southern Hemisphere\n",
    "\n",
    "(slope, intercept, rvalue, pvalue, stderr) = linregress(southern_hem['Latitude'], southern_hem['Cloudiness'])\n",
    "x = southern_hem['Latitude']\n",
    "regress_values = x * slope + intercept\n",
    "\n",
    "#Plot Linear Regression\n",
    "plt.scatter(southern_hem.Latitude, southern_hem.Cloudiness, s=12)\n",
    "plt.plot(x, regress_values, linewidth = 1, color=\"red\")\n",
    "plt.title('Southern Hemisphere: Latitude vs Cloudiness')\n",
    "plt.xlabel('Latitude')\n",
    "plt.ylabel('Cloudiness') \n",
    "                                                        \n",
    "plt.savefig(Southern Hemisphere Lat vs Cloudiness.png)                                                     \n",
    "                                                        \n",
    "plt.show()"
   ]
  },
  {
   "cell_type": "code",
   "execution_count": null,
   "metadata": {},
   "outputs": [],
   "source": [
    "#Linear Regression for Lat vs Windspeed - Northern Hemisphere\n",
    "\n",
    "(slope, intercept, rvalue, pvalue, stderr) = linregress(northern_hem['Latitude'], northern_hem['Windspeed'])\n",
    "x = northern_hem['Latitude']\n",
    "regress_values = x * slope + intercept\n",
    "\n",
    "#Plot Linear Regression\n",
    "plt.scatter(northern_hem.Latitude, southern_hem.Windspeed, s=12)\n",
    "plt.plot(x, regress_values, linewidth = 1, color=\"red\")\n",
    "plt.title('Northern Hemisphere: Latitude vs Windspeed')\n",
    "plt.xlabel('Latitude')\n",
    "plt.ylabel('Windspeed') \n",
    "                                                        \n",
    "plt.savefig(Northern Hemisphere Lat vs Windspeed.png)                                                     \n",
    "                                                        \n",
    "plt.show()"
   ]
  },
  {
   "cell_type": "code",
   "execution_count": null,
   "metadata": {},
   "outputs": [],
   "source": [
    "#Linear Regression for Lat vs Windspeed - Southern Hemisphere\n",
    "\n",
    "(slope, intercept, rvalue, pvalue, stderr) = linregress(southern_hem['Latitude'], southern_hem['Windspeed'])\n",
    "x = southern_hem['Latitude']\n",
    "regress_values = x * slope + intercept\n",
    "\n",
    "#Plot Linear Regression\n",
    "plt.scatter(southern_hem.Latitude, southern_hem.Windspeed, s=12)\n",
    "plt.plot(x, regress_values, linewidth = 1, color=\"red\")\n",
    "plt.title('Southern Hemisphere: Latitude vs Windspeed')\n",
    "plt.xlabel('Latitude')\n",
    "plt.ylabel('Windspeed') \n",
    "                                                        \n",
    "plt.savefig(Southern Hemisphere Lat vs Windspeed.png)                                                     \n",
    "                                                        \n",
    "plt.show()"
   ]
  }
 ],
 "metadata": {
  "anaconda-cloud": {},
  "kernelspec": {
   "display_name": "Python 3",
   "language": "python",
   "name": "python3"
  },
  "language_info": {
   "codemirror_mode": {
    "name": "ipython",
    "version": 3
   },
   "file_extension": ".py",
   "mimetype": "text/x-python",
   "name": "python",
   "nbconvert_exporter": "python",
   "pygments_lexer": "ipython3",
   "version": "3.8.3"
  }
 },
 "nbformat": 4,
 "nbformat_minor": 2
}
